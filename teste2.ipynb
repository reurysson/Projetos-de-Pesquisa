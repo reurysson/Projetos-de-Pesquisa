{
 "cells": [
  {
   "cell_type": "code",
   "execution_count": 1,
   "id": "8260ca02-95b0-4912-8aef-c87e4c1373eb",
   "metadata": {},
   "outputs": [
    {
     "data": {
      "text/plain": [
       "'Hello, word!'"
      ]
     },
     "execution_count": 1,
     "metadata": {},
     "output_type": "execute_result"
    }
   ],
   "source": [
    "\"Hello, word!\""
   ]
  },
  {
   "cell_type": "code",
   "execution_count": 2,
   "id": "c20abb49-a57c-4cd2-a38e-b95d6ea8d027",
   "metadata": {},
   "outputs": [],
   "source": [
    "# Este é apenas um notebook de teste. "
   ]
  },
  {
   "cell_type": "code",
   "execution_count": 6,
   "id": "025739aa-e801-4b43-bc42-6eb55cccc3df",
   "metadata": {},
   "outputs": [
    {
     "name": "stdout",
     "output_type": "stream",
     "text": [
      "Teresina - PI\n"
     ]
    }
   ],
   "source": [
    "cidade = 'Teresina'\n",
    "estado = 'PI'\n",
    "print(cidade,'-',estado)"
   ]
  },
  {
   "cell_type": "code",
   "execution_count": 7,
   "id": "9438a7a1-c1f7-41d1-a46a-54e4d5855f33",
   "metadata": {},
   "outputs": [
    {
     "data": {
      "text/plain": [
       "4"
      ]
     },
     "execution_count": 7,
     "metadata": {},
     "output_type": "execute_result"
    }
   ],
   "source": [
    "2+2\n"
   ]
  },
  {
   "cell_type": "code",
   "execution_count": 10,
   "id": "bdb52600-d47c-4482-bc9f-e0416eff185b",
   "metadata": {},
   "outputs": [
    {
     "data": {
      "text/plain": [
       "3.141592653589793"
      ]
     },
     "execution_count": 10,
     "metadata": {},
     "output_type": "execute_result"
    }
   ],
   "source": [
    "import math\n",
    "math.pi"
   ]
  }
 ],
 "metadata": {
  "citation-manager": {
   "items": {}
  },
  "kernelspec": {
   "display_name": "Python 3 (ipykernel)",
   "language": "python",
   "name": "python3"
  },
  "language_info": {
   "codemirror_mode": {
    "name": "ipython",
    "version": 3
   },
   "file_extension": ".py",
   "mimetype": "text/x-python",
   "name": "python",
   "nbconvert_exporter": "python",
   "pygments_lexer": "ipython3",
   "version": "3.11.7"
  }
 },
 "nbformat": 4,
 "nbformat_minor": 5
}
